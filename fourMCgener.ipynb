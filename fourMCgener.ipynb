{
 "cells": [
  {
   "cell_type": "code",
   "execution_count": 2,
   "metadata": {},
   "outputs": [],
   "source": [
    "import math\n",
    "import cmath \n",
    "import scipy.integrate as scpI\n",
    "import numpy as np\n",
    "import datetime\n",
    "import pandas as pd\n",
    "\n",
    "import matplotlib.pyplot as plt\n",
    "import random\n"
   ]
  },
  {
   "cell_type": "markdown",
   "metadata": {},
   "source": [
    "# Partie Fourrier"
   ]
  },
  {
   "cell_type": "code",
   "execution_count": 3,
   "metadata": {},
   "outputs": [],
   "source": [
    "##Fonction phi à utiliser dans l'intégrale \n",
    "def phi_(kappa,r,theta,sig,p,S0,V0,u,t):\n",
    "    sig**2*(u**2+u*complex(0,1)) + (kappa-p*sig*u*complex(0,1))**2\n",
    "    y=cmath.sqrt(sig**2*(u**2+u*complex(0,1)) + (kappa-p*sig*u*complex(0,1))**2) #gamma\n",
    "    try:\n",
    "        A1=cmath.exp(complex(0,u*np.log(S0)) +complex(0,u*r*t)+(kappa*theta*t*(kappa-(p*sig*u)*complex(0,1)))/(sig**2))\n",
    "    except OverflowError:\n",
    "        A1=np.nan\n",
    "    A2=cmath.cosh(y*t/2)+(complex(kappa,-p*sig*u)/y)*cmath.sinh(y*t/2)\n",
    "    P1=2*kappa*theta/(sig**2)\n",
    "    try:\n",
    "        A=A1/(pow(A2,P1))\n",
    "    except OverflowError:\n",
    "        A=np.nan\n",
    "    B1=-(complex(u**2,u))*V0\n",
    "    B2=y*(1/(np.tanh(y*t/2)))+kappa-complex(0,p*sig*u)\n",
    "    #gamma*(1/(np.tanh(gamma*tau*0.5))) + kappa - i*rho*sigma*u\n",
    "    B= cmath.exp(B1/B2)\n",
    "    #print(A*B)\n",
    "    return(A*B)"
   ]
  },
  {
   "cell_type": "code",
   "execution_count": 4,
   "metadata": {},
   "outputs": [],
   "source": [
    "#fonction partie réelle sous l'intégrale\n",
    "def ff(nu,k,kappa,alpha,r,theta,sig,p,S0,V0,t):\n",
    "    a=complex(alpha**2+alpha-nu**2,2*alpha*nu+nu)\n",
    "    b=complex(0,-nu*k)\n",
    "    u = complex(nu,-alpha-1)\n",
    "    d = (phi_(kappa,r,theta,sig,p,S0,V0,u,t)/a)*cmath.exp(b)\n",
    "    #print(d)\n",
    "    return(d.real)"
   ]
  },
  {
   "cell_type": "code",
   "execution_count": 5,
   "metadata": {},
   "outputs": [],
   "source": [
    "#Fonction C utiliser dans le pricing proprement dit\n",
    "def C(k,kappa,aplha,r,theta,sig,p,S0,V0,t,L):\n",
    "    Re = lambda x : ff(x,k,kappa,aplha,r,theta,sig,p,S0,V0,t)\n",
    "    #print(Re)\n",
    "    b=scpI.quad(Re, 0, L)\n",
    "    return b"
   ]
  },
  {
   "cell_type": "code",
   "execution_count": 6,
   "metadata": {},
   "outputs": [],
   "source": [
    "#fonction de pricing proprement dit\n",
    "def callPrice(k,kappa,aplha,r,theta,sig,p,S0,V0,t,L):\n",
    "    fact = cmath.exp(-r*t-alpha*k)/cmath.pi\n",
    "    return fact*C(k,kappa,aplha,r,theta,sig,p,S0,V0,t,L)[0]"
   ]
  },
  {
   "cell_type": "code",
   "execution_count": 19,
   "metadata": {},
   "outputs": [],
   "source": [
    "K=90\n",
    "theta = 0.04\n",
    "V0=0.04\n",
    "sig=0.5\n",
    "rho=-0.7\n",
    "r = 0.03\n",
    "S0=100\n",
    "k=np.log(K)\n",
    "kappa=2\n",
    "t=0.5\n",
    "alpha=0.1\n",
    "L=50\n",
    "p=-0.7"
   ]
  },
  {
   "cell_type": "code",
   "execution_count": 8,
   "metadata": {},
   "outputs": [
    {
     "name": "stdout",
     "output_type": "stream",
     "text": [
      "pricing via Fourrier gives 13.20248908466799\n",
      "pricing via Fourrier with dim L=100 takes 0 seconds\n"
     ]
    }
   ],
   "source": [
    "beginTime = datetime.datetime.now()\n",
    "price=callPrice(k,kappa,alpha,r,theta,sig,p,S0,V0,t,L)\n",
    "print(\"pricing via Fourrier gives\",price.real)\n",
    "endTime=datetime.datetime.now()\n",
    "diff=endTime-beginTime\n",
    "print(\"pricing via Fourrier with dim L=100 takes\",diff.seconds, \"seconds\")"
   ]
  },
  {
   "cell_type": "markdown",
   "metadata": {},
   "source": [
    "# Partie Montecarlo"
   ]
  },
  {
   "cell_type": "code",
   "execution_count": 9,
   "metadata": {},
   "outputs": [],
   "source": [
    "#implémentation de l'incrémentation d'un mouvement brownien\n",
    "def brownian_incr(dt):\n",
    "    return np.random.normal(0,np.sqrt(dt))"
   ]
  },
  {
   "cell_type": "code",
   "execution_count": 10,
   "metadata": {},
   "outputs": [],
   "source": [
    "def heston(X0,V0,r,kappa,theta,sigma,rho,T,N):\n",
    "    pas = T/N\n",
    "    X=[X0]\n",
    "    S=[np.exp(X0)]\n",
    "    V=V0\n",
    "    for i in range(1,N+1):\n",
    "        dwt=brownian_incr(pas)\n",
    "        X.append(X[-1]+(r-0.5*V)*pas+np.sqrt(np.maximum(V,0))*dwt) \n",
    "        S.append(np.exp(X[-1]))\n",
    "        V+=kappa*(theta-V)*pas+sigma*np.sqrt(np.maximum(V,0))*(rho*dwt+np.sqrt(1-rho**2)*brownian_incr(pas))\n",
    "    return X\n",
    "    "
   ]
  },
  {
   "cell_type": "code",
   "execution_count": 11,
   "metadata": {},
   "outputs": [],
   "source": [
    "def monteCarlo(X,r,T):\n",
    "    return np.exp(-r*T)*(sum(X)/len(X))"
   ]
  },
  {
   "cell_type": "code",
   "execution_count": 12,
   "metadata": {},
   "outputs": [
    {
     "data": {
      "text/plain": [
       "[<matplotlib.lines.Line2D at 0x7f159ef2ed10>]"
      ]
     },
     "execution_count": 12,
     "metadata": {},
     "output_type": "execute_result"
    },
    {
     "data": {
      "image/png": "[encoded data removed]",
      "text/plain": [
       "<Figure size 432x288 with 1 Axes>"
      ]
     },
     "metadata": {
      "needs_background": "light"
     },
     "output_type": "display_data"
    }
   ],
   "source": [
    "#SpotPrice dans un modèle de Heston\n",
    "K=90\n",
    "X0=np.log(100)\n",
    "V0=0.04\n",
    "theta=0.04\n",
    "kappa=2\n",
    "sigma=0.5\n",
    "r=0.03\n",
    "rho=-0.7\n",
    "T=0.5\n",
    "N=10\n",
    "times=[0]\n",
    "spotPrices = heston(X0,V0,r,kappa,theta,sigma,rho,T,N)\n",
    "t=np.linspace(0,T/N,N+1)\n",
    "plt.plot(t,spotPrices)"
   ]
  },
  {
   "cell_type": "code",
   "execution_count": 13,
   "metadata": {},
   "outputs": [],
   "source": [
    "def payOffCall(price,K):\n",
    "    return np.maximum(price-K,0)"
   ]
  },
  {
   "cell_type": "code",
   "execution_count": 14,
   "metadata": {},
   "outputs": [],
   "source": [
    "#Building the prices sample\n",
    "def priceCallByMC(K,X0,V0,r,kappa,theta,sigma,rho,T,N):\n",
    "    sample=[]\n",
    "    size = 10000\n",
    "    for i in range(1,size+1):\n",
    "        spotPrices = heston(X0,V0,r,kappa,theta,sigma,rho,T,N)\n",
    "        sample.append(payOffCall(np.exp(spotPrices[-1]),K))\n",
    "    return monteCarlo(sample,r,T)\n",
    "\n"
   ]
  },
  {
   "cell_type": "code",
   "execution_count": 15,
   "metadata": {},
   "outputs": [
    {
     "name": "stdout",
     "output_type": "stream",
     "text": [
      "price for MonteCarlo gives 13.263200073469354\n",
      "pricing via montecarlo with dim 100*10000 takes 2 seconds\n"
     ]
    }
   ],
   "source": [
    "beginTime = datetime.datetime.now()\n",
    "price=priceCallByMC(K,X0,V0,r,kappa,theta,sigma,rho,T,N)\n",
    "print(\"price for MonteCarlo gives\",price)\n",
    "endTime=datetime.datetime.now()\n",
    "diff=endTime-beginTime\n",
    "print(\"pricing via montecarlo with dim 100*10000 takes\",diff.seconds, \"seconds\")"
   ]
  },
  {
   "cell_type": "markdown",
   "metadata": {},
   "source": [
    "# Generation mixing Fourier and MC"
   ]
  },
  {
   "cell_type": "code",
   "execution_count": 33,
   "metadata": {},
   "outputs": [],
   "source": [
    "def priceIt(k,kappa,alpha,r,theta,sig,p,S0,V0,t,L):\n",
    "    tmp = callPrice(k,kappa,alpha,r,theta,sig,p,S0,V0,t,L)\n",
    "    if(np.isnan(tmp) or tmp.real < 0):\n",
    "        X0 = np.log(S0)\n",
    "        K = cmath.exp(k)\n",
    "        tmpPrime = priceCallByMC(K,X0,V0,r,kappa,theta,sig,p,t,N)\n",
    "        return tmpPrime.real\n",
    "    return tmp.real\n",
    "    "
   ]
  },
  {
   "cell_type": "code",
   "execution_count": 34,
   "metadata": {},
   "outputs": [
    {
     "name": "stdout",
     "output_type": "stream",
     "text": [
      "price for MonteCarlo gives 13.20248908466799\n",
      "pricing via both  takes 0 seconds\n"
     ]
    }
   ],
   "source": [
    "beginTime = datetime.datetime.now()\n",
    "price=priceIt(k,kappa,alpha,r,theta,sig,p,S0,V0,t,L)\n",
    "print(\"price for MonteCarlo gives\",price)\n",
    "endTime=datetime.datetime.now()\n",
    "diff=endTime-beginTime\n",
    "print(\"pricing via both  takes\",diff.seconds, \"seconds\")"
   ]
  },
  {
   "cell_type": "code",
   "execution_count": 37,
   "metadata": {},
   "outputs": [
    {
     "name": "stderr",
     "output_type": "stream",
     "text": [
      "/home/taurus/anaconda3/lib/python3.7/site-packages/ipykernel_launcher.py:5: IntegrationWarning: The occurrence of roundoff error is detected, which prevents \n",
      "  the requested tolerance from being achieved.  The error may be \n",
      "  underestimated.\n",
      "  \"\"\"\n"
     ]
    },
    {
     "name": "stdout",
     "output_type": "stream",
     "text": [
      "generating the dataframe takes 2:43:13.052328\n"
     ]
    }
   ],
   "source": [
    "beginTime = datetime.datetime.now()\n",
    "size_=50000\n",
    "#generating log strikes k\n",
    "kLogList = [np.log((n*200)) for n in np.random.random(size=size_)]\n",
    "\n",
    "#generating initial price S0\n",
    "S0List =[n*200 for n in np.random.random(size=size_)]\n",
    "\n",
    "#generating long run average price variance theta\n",
    "thetaList = [n*5/10 for n in np.random.random(size=size_)]\n",
    "\n",
    "#generating initial instantaneous variance V0\n",
    "V0List = [n*5/10 + 0.05 for n in np.random.random(size=size_)]\n",
    "\n",
    "#generating volatility sig\n",
    "sigList=[n*5/10 for n in np.random.random(size=size_)]\n",
    "\n",
    "#generating correlation rho\n",
    "rhoList = [-n*0.95 for n in np.random.random(size=size_)]\n",
    "\n",
    "#generating risk free rate r\n",
    "rList = [n/10 for n in np.random.random(size=size_)]\n",
    "\n",
    "#generating reversion speed kappa\n",
    "kappaList = [n*2 for n in np.random.random(size=size_)]\n",
    "\n",
    "#generating time to maturity tau\n",
    "tauList=[n*1.4+1 for n in np.random.random(size=size_)]\n",
    "\n",
    "#computing related prices\n",
    "callPriceList = [priceIt(k,kappa,alpha,r,theta,sig,p,S0,V0,t,L).real for k,kappa,r,theta,sig,p,S0,V0,t in zip(kLogList,kappaList,rList,thetaList,sigList,rhoList,S0List,V0List,tauList)]\n",
    "\n",
    "endTime=datetime.datetime.now()\n",
    "diff=endTime-beginTime\n",
    "print(\"generating the dataframe takes\",diff)"
   ]
  },
  {
   "cell_type": "code",
   "execution_count": 39,
   "metadata": {},
   "outputs": [
    {
     "name": "stdout",
     "output_type": "stream",
     "text": [
      "exporting data to csv takes 0:00:00.722133\n"
     ]
    }
   ],
   "source": [
    "beginTime = datetime.datetime.now()\n",
    "\n",
    "data={'kLog' : kLogList, \n",
    "      'S0'  : S0List,\n",
    "      'theta':thetaList,\n",
    "      'V0'  : V0List,\n",
    "      'sigma' : sigList,\n",
    "      'rho' : rhoList,\n",
    "      'r'  : rList,\n",
    "      'kappa': kappaList,\n",
    "      'tau':tauList,\n",
    "      'callPrice':callPriceList\n",
    "     }\n",
    "data=pd.DataFrame(data)\n",
    "data.to_csv(r'fourrierData.csv', index = False)\n",
    "\n",
    "endTime=datetime.datetime.now()\n",
    "diff=endTime-beginTime\n",
    "print(\"exporting data to csv takes\",diff)"
   ]
  },
  {
   "cell_type": "code",
   "execution_count": 41,
   "metadata": {},
   "outputs": [
    {
     "data": {
      "text/plain": [
       "[6.85183008161927,\n",
       " 116.67910374432438,\n",
       " 142.49140168829254,\n",
       " 91.54472516527892,\n",
       " 111.73870447957295,\n",
       " 52.37525332001205,\n",
       " 115.47998989356685,\n",
       " 10.319283084239084,\n",
       " 26.96296114889405,\n",
       " 150.476750478494,\n",
       " 139.25238450490758,\n",
       " 49.252881858244926,\n",
       " 103.36997943560891,\n",
       " 128.39574976107514,\n",
       " 134.13550759989556,\n",
       " 72.16050397458697,\n",
       " 65.00080374550352,\n",
       " 17.42232471229346,\n",
       " 68.94078647937718,\n",
       " 163.87142957865467,\n",
       " 170.47108987659496,\n",
       " 41.10702074805592,\n",
       " 26.269301519619326,\n",
       " 87.25769273764415,\n",
       " 190.56212269072336,\n",
       " 9.178254578757139,\n",
       " 52.359395525032724,\n",
       " 172.58691886776097,\n",
       " 115.41996849836235,\n",
       " 171.2873916873352,\n",
       " 169.23441039248925,\n",
       " 170.14017732016288,\n",
       " 135.64626744207064,\n",
       " 66.24422123237088,\n",
       " 123.77676508310358,\n",
       " 74.82076322804537,\n",
       " 126.34427999371715,\n",
       " 189.1161825409941,\n",
       " 121.4742055188691,\n",
       " 165.88016874982628,\n",
       " 44.37442847569153,\n",
       " 148.04117726647704,\n",
       " 47.20791941816549,\n",
       " 190.90870067630172,\n",
       " 32.08273278325249,\n",
       " 108.6686113392904,\n",
       " 8.287179028482505,\n",
       " 187.9087558359387,\n",
       " 62.738377275688094,\n",
       " 0.876023020258887]"
      ]
     },
     "execution_count": 41,
     "metadata": {},
     "output_type": "execute_result"
    }
   ],
   "source": [
    "S0List"
   ]
  },
  {
   "cell_type": "code",
   "execution_count": 29,
   "metadata": {},
   "outputs": [
    {
     "data": {
      "text/plain": [
       "True"
      ]
     },
     "execution_count": 29,
     "metadata": {},
     "output_type": "execute_result"
    }
   ],
   "source": [
    "a=np.nan\n",
    "np.isnan(a)"
   ]
  }
 ],
 "metadata": {
  "kernelspec": {
   "display_name": "Python 3",
   "language": "python",
   "name": "python3"
  },
  "language_info": {
   "codemirror_mode": {
    "name": "ipython",
    "version": 3
   },
   "file_extension": ".py",
   "mimetype": "text/x-python",
   "name": "python",
   "nbconvert_exporter": "python",
   "pygments_lexer": "ipython3",
   "version": "3.7.4"
  }
 },
 "nbformat": 4,
 "nbformat_minor": 4
}

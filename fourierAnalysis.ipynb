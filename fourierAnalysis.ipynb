{
 "cells": [
  {
   "cell_type": "markdown",
   "metadata": {},
   "source": [
    "# This file contains the analysis of the database fourrierData!"
   ]
  },
  {
   "cell_type": "code",
   "execution_count": 33,
   "metadata": {},
   "outputs": [],
   "source": [
    "import pandas as pd\n",
    "import numpy as np\n",
    "import matplotlib.pyplot as plt\n",
    "import sklearn.model_selection as sms\n",
    "import sklearn.linear_model as slm\n",
    "import matplotlib.lines as lines\n",
    "import sklearn.preprocessing as spp\n",
    "import matplotlib.cm as cm\n",
    "import datetime"
   ]
  },
  {
   "cell_type": "markdown",
   "metadata": {},
   "source": [
    "## downloading the database"
   ]
  },
  {
   "cell_type": "code",
   "execution_count": 12,
   "metadata": {},
   "outputs": [],
   "source": [
    "df=pd.read_csv(\"fourrierData.csv\") "
   ]
  },
  {
   "cell_type": "markdown",
   "metadata": {},
   "source": [
    "## Checking dimensions"
   ]
  },
  {
   "cell_type": "code",
   "execution_count": 22,
   "metadata": {},
   "outputs": [
    {
     "name": "stdout",
     "output_type": "stream",
     "text": [
      "data frame df has  50000 lines and 10 columns\n"
     ]
    }
   ],
   "source": [
    "dfShape=df.shape\n",
    "nrow=dfShape[0]\n",
    "ncol=dfShape[1]\n",
    "print(\"data frame df has \",nrow,\"lines and\",ncol,\"columns\")"
   ]
  },
  {
   "cell_type": "markdown",
   "metadata": {},
   "source": [
    "## Dealing with nan Values"
   ]
  },
  {
   "cell_type": "code",
   "execution_count": 23,
   "metadata": {},
   "outputs": [
    {
     "name": "stdout",
     "output_type": "stream",
     "text": [
      "The database has 0 rows with  nan values\n"
     ]
    }
   ],
   "source": [
    "nNan = df[\"callPrice\"].isna().sum()\n",
    "print(\"The database has\",nNan,\"rows with \",np.nan, \"values\")"
   ]
  },
  {
   "cell_type": "code",
   "execution_count": 24,
   "metadata": {},
   "outputs": [
    {
     "name": "stdout",
     "output_type": "stream",
     "text": [
      "For now on, our data has 50000 rows and 10 columns\n"
     ]
    }
   ],
   "source": [
    "dfAlpha=df.dropna()\n",
    "nrowAlpha = dfAlpha.shape[0]\n",
    "ncolAlpha = dfAlpha.shape[1]\n",
    "print(\"For now on, our data has\",nrowAlpha,\"rows and\",ncolAlpha,\"columns\")"
   ]
  },
  {
   "cell_type": "markdown",
   "metadata": {},
   "source": [
    "## Dealing with ouliers"
   ]
  },
  {
   "cell_type": "code",
   "execution_count": 26,
   "metadata": {},
   "outputs": [
    {
     "data": {
      "text/plain": [
       "{'whiskers': [<matplotlib.lines.Line2D at 0x7fb9c24ec790>,\n",
       "  <matplotlib.lines.Line2D at 0x7fb9c24ecd50>],\n",
       " 'caps': [<matplotlib.lines.Line2D at 0x7fb9c24e3ad0>,\n",
       "  <matplotlib.lines.Line2D at 0x7fb9c2474790>],\n",
       " 'boxes': [<matplotlib.lines.Line2D at 0x7fb9c24e3a90>],\n",
       " 'medians': [<matplotlib.lines.Line2D at 0x7fb9c2474cd0>],\n",
       " 'fliers': [<matplotlib.lines.Line2D at 0x7fb9c24ecd90>],\n",
       " 'means': []}"
      ]
     },
     "execution_count": 26,
     "metadata": {},
     "output_type": "execute_result"
    },
    {
     "data": {
      "image/png": "[encoded data removed]",
      "text/plain": [
       "<Figure size 432x288 with 1 Axes>"
      ]
     },
     "metadata": {
      "needs_background": "light"
     },
     "output_type": "display_data"
    }
   ],
   "source": [
    "plt.boxplot(dfAlpha[\"callPrice\"])"
   ]
  },
  {
   "cell_type": "code",
   "execution_count": 27,
   "metadata": {},
   "outputs": [
    {
     "data": {
      "text/plain": [
       "count    50000.000000\n",
       "mean        44.729383\n",
       "std         46.094227\n",
       "min          0.000000\n",
       "25%          3.769585\n",
       "50%         30.709732\n",
       "75%         72.712269\n",
       "max        197.900608\n",
       "Name: callPrice, dtype: float64"
      ]
     },
     "execution_count": 27,
     "metadata": {},
     "output_type": "execute_result"
    }
   ],
   "source": [
    "dfAlpha[\"callPrice\"].describe()"
   ]
  },
  {
   "cell_type": "code",
   "execution_count": 28,
   "metadata": {},
   "outputs": [
    {
     "name": "stdout",
     "output_type": "stream",
     "text": [
      "Data base version beta has dimensions 50000 * 10\n"
     ]
    },
    {
     "data": {
      "text/html": [
       "<div>\n",
       "<style scoped>\n",
       "    .dataframe tbody tr th:only-of-type {\n",
       "        vertical-align: middle;\n",
       "    }\n",
       "\n",
       "    .dataframe tbody tr th {\n",
       "        vertical-align: top;\n",
       "    }\n",
       "\n",
       "    .dataframe thead th {\n",
       "        text-align: right;\n",
       "    }\n",
       "</style>\n",
       "<table border=\"1\" class=\"dataframe\">\n",
       "  <thead>\n",
       "    <tr style=\"text-align: right;\">\n",
       "      <th></th>\n",
       "      <th>kLog</th>\n",
       "      <th>S0</th>\n",
       "      <th>theta</th>\n",
       "      <th>V0</th>\n",
       "      <th>sigma</th>\n",
       "      <th>rho</th>\n",
       "      <th>r</th>\n",
       "      <th>kappa</th>\n",
       "      <th>tau</th>\n",
       "      <th>callPrice</th>\n",
       "    </tr>\n",
       "  </thead>\n",
       "  <tbody>\n",
       "    <tr>\n",
       "      <td>count</td>\n",
       "      <td>50000.000000</td>\n",
       "      <td>50000.000000</td>\n",
       "      <td>50000.000000</td>\n",
       "      <td>50000.000000</td>\n",
       "      <td>50000.000000</td>\n",
       "      <td>50000.000000</td>\n",
       "      <td>5.000000e+04</td>\n",
       "      <td>50000.000000</td>\n",
       "      <td>50000.000000</td>\n",
       "      <td>50000.000000</td>\n",
       "    </tr>\n",
       "    <tr>\n",
       "      <td>mean</td>\n",
       "      <td>4.290903</td>\n",
       "      <td>99.595489</td>\n",
       "      <td>0.249731</td>\n",
       "      <td>0.299969</td>\n",
       "      <td>0.250239</td>\n",
       "      <td>-0.476105</td>\n",
       "      <td>4.957585e-02</td>\n",
       "      <td>1.000905</td>\n",
       "      <td>1.701439</td>\n",
       "      <td>44.729383</td>\n",
       "    </tr>\n",
       "    <tr>\n",
       "      <td>std</td>\n",
       "      <td>1.002782</td>\n",
       "      <td>57.618418</td>\n",
       "      <td>0.144779</td>\n",
       "      <td>0.144531</td>\n",
       "      <td>0.144574</td>\n",
       "      <td>0.274255</td>\n",
       "      <td>2.885907e-02</td>\n",
       "      <td>0.578151</td>\n",
       "      <td>0.404063</td>\n",
       "      <td>46.094227</td>\n",
       "    </tr>\n",
       "    <tr>\n",
       "      <td>min</td>\n",
       "      <td>-8.220824</td>\n",
       "      <td>0.031994</td>\n",
       "      <td>0.000004</td>\n",
       "      <td>0.050010</td>\n",
       "      <td>0.000003</td>\n",
       "      <td>-0.949961</td>\n",
       "      <td>8.154050e-07</td>\n",
       "      <td>0.000013</td>\n",
       "      <td>1.000016</td>\n",
       "      <td>0.000000</td>\n",
       "    </tr>\n",
       "    <tr>\n",
       "      <td>25%</td>\n",
       "      <td>3.903760</td>\n",
       "      <td>49.842611</td>\n",
       "      <td>0.122856</td>\n",
       "      <td>0.174712</td>\n",
       "      <td>0.124355</td>\n",
       "      <td>-0.713835</td>\n",
       "      <td>2.447263e-02</td>\n",
       "      <td>0.502060</td>\n",
       "      <td>1.350829</td>\n",
       "      <td>3.769585</td>\n",
       "    </tr>\n",
       "    <tr>\n",
       "      <td>50%</td>\n",
       "      <td>4.596093</td>\n",
       "      <td>99.027328</td>\n",
       "      <td>0.249438</td>\n",
       "      <td>0.299995</td>\n",
       "      <td>0.250712</td>\n",
       "      <td>-0.476516</td>\n",
       "      <td>4.937261e-02</td>\n",
       "      <td>1.000295</td>\n",
       "      <td>1.701202</td>\n",
       "      <td>30.709732</td>\n",
       "    </tr>\n",
       "    <tr>\n",
       "      <td>75%</td>\n",
       "      <td>5.003893</td>\n",
       "      <td>149.134135</td>\n",
       "      <td>0.375435</td>\n",
       "      <td>0.425157</td>\n",
       "      <td>0.375934</td>\n",
       "      <td>-0.238392</td>\n",
       "      <td>7.444095e-02</td>\n",
       "      <td>1.503788</td>\n",
       "      <td>2.052677</td>\n",
       "      <td>72.712269</td>\n",
       "    </tr>\n",
       "    <tr>\n",
       "      <td>max</td>\n",
       "      <td>5.298312</td>\n",
       "      <td>199.995235</td>\n",
       "      <td>0.499994</td>\n",
       "      <td>0.549986</td>\n",
       "      <td>0.499993</td>\n",
       "      <td>-0.000010</td>\n",
       "      <td>9.999936e-02</td>\n",
       "      <td>1.999962</td>\n",
       "      <td>2.399985</td>\n",
       "      <td>197.900608</td>\n",
       "    </tr>\n",
       "  </tbody>\n",
       "</table>\n",
       "</div>"
      ],
      "text/plain": [
       "               kLog            S0         theta            V0         sigma  \\\n",
       "count  50000.000000  50000.000000  50000.000000  50000.000000  50000.000000   \n",
       "mean       4.290903     99.595489      0.249731      0.299969      0.250239   \n",
       "std        1.002782     57.618418      0.144779      0.144531      0.144574   \n",
       "min       -8.220824      0.031994      0.000004      0.050010      0.000003   \n",
       "25%        3.903760     49.842611      0.122856      0.174712      0.124355   \n",
       "50%        4.596093     99.027328      0.249438      0.299995      0.250712   \n",
       "75%        5.003893    149.134135      0.375435      0.425157      0.375934   \n",
       "max        5.298312    199.995235      0.499994      0.549986      0.499993   \n",
       "\n",
       "                rho             r         kappa           tau     callPrice  \n",
       "count  50000.000000  5.000000e+04  50000.000000  50000.000000  50000.000000  \n",
       "mean      -0.476105  4.957585e-02      1.000905      1.701439     44.729383  \n",
       "std        0.274255  2.885907e-02      0.578151      0.404063     46.094227  \n",
       "min       -0.949961  8.154050e-07      0.000013      1.000016      0.000000  \n",
       "25%       -0.713835  2.447263e-02      0.502060      1.350829      3.769585  \n",
       "50%       -0.476516  4.937261e-02      1.000295      1.701202     30.709732  \n",
       "75%       -0.238392  7.444095e-02      1.503788      2.052677     72.712269  \n",
       "max       -0.000010  9.999936e-02      1.999962      2.399985    197.900608  "
      ]
     },
     "execution_count": 28,
     "metadata": {},
     "output_type": "execute_result"
    }
   ],
   "source": [
    "dfBeta=dfAlpha\n",
    "dfBeta.drop(dfBeta[dfBeta.callPrice < 0].index, inplace=True)\n",
    "nrowBeta = dfBeta.shape[0]\n",
    "ncolBeta = dfBeta.shape[1]\n",
    "print(\"Data base version beta has dimensions\",nrowBeta,\"*\",ncolBeta)\n",
    "dfBeta.describe()"
   ]
  },
  {
   "cell_type": "markdown",
   "metadata": {},
   "source": [
    "## spliting into train, test, explanatory, target"
   ]
  },
  {
   "cell_type": "code",
   "execution_count": 37,
   "metadata": {},
   "outputs": [],
   "source": [
    "splitBeta = sms.train_test_split(dfBeta,test_size=0.2)\n",
    "trainBeta = splitBeta[0]\n",
    "testBeta = splitBeta[1]"
   ]
  },
  {
   "cell_type": "code",
   "execution_count": 38,
   "metadata": {},
   "outputs": [
    {
     "name": "stdout",
     "output_type": "stream",
     "text": [
      "creating training database takes 0:00:00.906382\n"
     ]
    }
   ],
   "source": [
    "beginTime = datetime.datetime.now()\n",
    "trainBeta.to_csv(r'trainData.csv', index = False)\n",
    "testBeta.to_csv(r'testData.csv', index = False)\n",
    "endTime=datetime.datetime.now()\n",
    "diff=endTime-beginTime\n",
    "print(\"creating training database takes\",diff)"
   ]
  },
  {
   "cell_type": "code",
   "execution_count": 39,
   "metadata": {},
   "outputs": [
    {
     "name": "stdout",
     "output_type": "stream",
     "text": [
      "training base version beta has 40000 lines \n",
      "test base version beta has 10000 lines \n"
     ]
    }
   ],
   "source": [
    "nrowBetaTrain = trainBeta.shape[0]\n",
    "ncolBetaTrain = trainBeta.shape[1]\n",
    "nrowBetaTest = testBeta.shape[0]\n",
    "ncolBetaTest = testBeta.shape[1]\n",
    "print(\"training base version beta has\",nrowBetaTrain,\"lines \")\n",
    "print(\"test base version beta has\",nrowBetaTest,\"lines \")"
   ]
  },
  {
   "cell_type": "code",
   "execution_count": 40,
   "metadata": {},
   "outputs": [],
   "source": [
    "trainBetaY=trainBeta[['callPrice']]\n",
    "testBetaY=testBeta[['callPrice']]\n",
    "trainBetaX=trainBeta[trainBeta.columns.difference(['callPrice'])]\n",
    "testBetaX=testBeta[testBeta.columns.difference(['callPrice'])]"
   ]
  },
  {
   "cell_type": "markdown",
   "metadata": {},
   "source": [
    "## Ordinary Least Square Lenear Regression"
   ]
  },
  {
   "cell_type": "code",
   "execution_count": 41,
   "metadata": {},
   "outputs": [
    {
     "name": "stdout",
     "output_type": "stream",
     "text": [
      "Score of OLS on traing data: 0.8508357149021918\n",
      "Score of OLS on test data: 0.848769995602458\n"
     ]
    }
   ],
   "source": [
    "regOLS = slm.LinearRegression().fit(trainBetaX, trainBetaY)\n",
    "scoreTrainOLS=regOLS.score(trainBetaX, trainBetaY)\n",
    "scoreTestOLS=regOLS.score(testBetaX, testBetaY)\n",
    "print(\"Score of OLS on traing data:\",scoreTrainOLS)\n",
    "print(\"Score of OLS on test data:\",scoreTestOLS)"
   ]
  },
  {
   "cell_type": "code",
   "execution_count": 42,
   "metadata": {},
   "outputs": [
    {
     "data": {
      "text/plain": [
       "Text(0.5, 1.0, 'train: Observed VS Predicted')"
      ]
     },
     "execution_count": 42,
     "metadata": {},
     "output_type": "execute_result"
    },
    {
     "data": {
      "image/png": "[encoded data removed]",
      "text/plain": [
       "<Figure size 432x288 with 1 Axes>"
      ]
     },
     "metadata": {
      "needs_background": "light"
     },
     "output_type": "display_data"
    }
   ],
   "source": [
    "trainBetaYPredictOLS=regOLS.predict(trainBetaX)\n",
    "plt.scatter(trainBetaYPredictOLS,trainBetaY)\n",
    "plt.plot(np.arange(-50,200,0.5),np.arange(-50,200,0.5),color=\"r\")\n",
    "plt.title(\"train: Observed VS Predicted\")"
   ]
  },
  {
   "cell_type": "code",
   "execution_count": 43,
   "metadata": {},
   "outputs": [
    {
     "name": "stdout",
     "output_type": "stream",
     "text": [
      "for traindatabase, overestimations:  44.015 %      underEstimations:  55.985\n"
     ]
    }
   ],
   "source": [
    "diffTrainBetaOLS = trainBetaY-trainBetaYPredictOLS\n",
    "print(\"for traindatabase, overestimations: \",((diffTrainBetaOLS[diffTrainBetaOLS['callPrice'] >= 0].size)/diffTrainBetaOLS.size)*100,\"%     \",\"underEstimations: \",((diffTrainBetaOLS[diffTrainBetaOLS['callPrice'] < 0].size)/diffTrainBetaOLS.size)*100)"
   ]
  },
  {
   "cell_type": "code",
   "execution_count": 44,
   "metadata": {},
   "outputs": [
    {
     "data": {
      "text/plain": [
       "Text(0.5, 1.0, 'test: Observed VS Predicted')"
      ]
     },
     "execution_count": 44,
     "metadata": {},
     "output_type": "execute_result"
    },
    {
     "data": {
      "image/png": "[encoded data removed]",
      "text/plain": [
       "<Figure size 432x288 with 1 Axes>"
      ]
     },
     "metadata": {
      "needs_background": "light"
     },
     "output_type": "display_data"
    }
   ],
   "source": [
    "testBetaYPredictOLS=regOLS.predict(testBetaX)\n",
    "plt.plot(testBetaYPredictOLS,testBetaY,'.')\n",
    "plt.plot(np.arange(-50,200,0.5),np.arange(-50,200,0.5),color=\"r\")\n",
    "plt.title(\"test: Observed VS Predicted\")"
   ]
  },
  {
   "cell_type": "code",
   "execution_count": 124,
   "metadata": {},
   "outputs": [
    {
     "name": "stdout",
     "output_type": "stream",
     "text": [
      "for testdatabase, overestimations:  45.981905268759974 %      underEstimations:  54.01809473124002\n"
     ]
    }
   ],
   "source": [
    "diffTestBetaOLS = testBetaY-testBetaYPredictOLS\n",
    "print(\"for testdatabase, overestimations: \",((diffTestBetaOLS[diffTestBetaOLS['callPrice'] >= 0].size)/diffTestBetaOLS.size)*100,\"%     \",\"underEstimations: \",((diffTestBetaOLS[diffTestBetaOLS['callPrice'] < 0].size)/diffTestBetaOLS.size)*100)"
   ]
  },
  {
   "cell_type": "markdown",
   "metadata": {},
   "source": [
    "## Ridge Linear Regression"
   ]
  },
  {
   "cell_type": "code",
   "execution_count": 45,
   "metadata": {},
   "outputs": [
    {
     "name": "stdout",
     "output_type": "stream",
     "text": [
      "Score of RIDGE on traing data: 0.8508348669389926\n",
      "Score of RIDGE on test data: 0.8487750110923309\n"
     ]
    }
   ],
   "source": [
    "clf = slm.Ridge(alpha=1)\n",
    "regRIDGE=clf.fit(trainBetaX,trainBetaY)\n",
    "scoreTrainRIDGE=regRIDGE.score(trainBetaX, trainBetaY)\n",
    "scoreTestRIDGE=regRIDGE.score(testBetaX, testBetaY)\n",
    "print(\"Score of RIDGE on traing data:\",scoreTrainRIDGE)\n",
    "print(\"Score of RIDGE on test data:\",scoreTestRIDGE)"
   ]
  },
  {
   "cell_type": "markdown",
   "metadata": {},
   "source": [
    "## Lasso Linear Regression"
   ]
  },
  {
   "cell_type": "code",
   "execution_count": 47,
   "metadata": {},
   "outputs": [
    {
     "name": "stdout",
     "output_type": "stream",
     "text": [
      "Score of Lasso on traing data: 0.8437299483968267\n",
      "Score of Lasso on test data: 0.8429879471566148\n"
     ]
    }
   ],
   "source": [
    "cclf = slm.Lasso()\n",
    "regLasso=cclf.fit(trainBetaX,trainBetaY)\n",
    "scoreTrainLasso=regLasso.score(trainBetaX, trainBetaY)\n",
    "scoreTestLasso=regLasso.score(testBetaX, testBetaY)\n",
    "print(\"Score of Lasso on traing data:\",scoreTrainLasso)\n",
    "print(\"Score of Lasso on test data:\",scoreTestLasso)"
   ]
  },
  {
   "cell_type": "code",
   "execution_count": 48,
   "metadata": {},
   "outputs": [
    {
     "name": "stdout",
     "output_type": "stream",
     "text": [
      "[  0.62847102   0.         -21.14306118   0.           0.\n",
      "   0.          -0.           0.           0.        ]\n",
      "Index(['S0', 'V0', 'kLog', 'kappa', 'r', 'rho', 'sigma', 'tau', 'theta'], dtype='object')\n"
     ]
    }
   ],
   "source": [
    "print(regLasso.coef_)\n",
    "print(trainBetaX.columns)"
   ]
  },
  {
   "cell_type": "markdown",
   "metadata": {},
   "source": [
    "## Lasso with standardization"
   ]
  },
  {
   "cell_type": "markdown",
   "metadata": {},
   "source": [
    "###  standardizing"
   ]
  },
  {
   "cell_type": "code",
   "execution_count": 49,
   "metadata": {},
   "outputs": [],
   "source": [
    "sc = spp.StandardScaler()\n",
    "trainGammaX =sc.fit_transform(trainBetaX)\n",
    "trainGammaY=sc.fit_transform(trainBetaY)\n",
    "testGammaX =sc.fit_transform(testBetaX)\n",
    "testGammaY=sc.fit_transform(testBetaY)"
   ]
  },
  {
   "cell_type": "markdown",
   "metadata": {},
   "source": [
    "### new means for train"
   ]
  },
  {
   "cell_type": "code",
   "execution_count": 50,
   "metadata": {},
   "outputs": [
    {
     "name": "stdout",
     "output_type": "stream",
     "text": [
      "[-5.75539616e-17 -2.21689334e-16  2.43005616e-16 -1.85806925e-16\n",
      " -2.11741735e-16  2.91322522e-17  7.88702437e-17 -2.67164069e-16\n",
      "  7.35411732e-17]\n"
     ]
    }
   ],
   "source": [
    "print(np.mean(trainGammaX,axis=0))"
   ]
  },
  {
   "cell_type": "markdown",
   "metadata": {},
   "source": [
    "### new variances for train"
   ]
  },
  {
   "cell_type": "code",
   "execution_count": 51,
   "metadata": {},
   "outputs": [
    {
     "name": "stdout",
     "output_type": "stream",
     "text": [
      "[1. 1. 1. 1. 1. 1. 1. 1. 1.]\n"
     ]
    }
   ],
   "source": [
    "print(np.var(trainGammaX,axis=0))"
   ]
  },
  {
   "cell_type": "markdown",
   "metadata": {},
   "source": [
    "### implementing lasso itself"
   ]
  },
  {
   "cell_type": "code",
   "execution_count": 52,
   "metadata": {},
   "outputs": [],
   "source": [
    "myAlphas = np.array(np.arange(0.01,1.1,0.1))\n",
    "alphaForPath, coefsLasso, _ = slm.lasso_path(trainGammaX,trainGammaY,alphas=myAlphas)\n",
    "coefsLasso=coefsLasso[0]"
   ]
  },
  {
   "cell_type": "markdown",
   "metadata": {},
   "source": [
    "coefsLasso is the matrix of coefficients with 9 lines (9 explanatory variables) and 10 colomns (because 10 values of α tried)."
   ]
  },
  {
   "cell_type": "code",
   "execution_count": 53,
   "metadata": {},
   "outputs": [
    {
     "data": {
      "image/png": "[encoded data removed]",
      "text/plain": [
       "<Figure size 432x288 with 1 Axes>"
      ]
     },
     "metadata": {
      "needs_background": "light"
     },
     "output_type": "display_data"
    }
   ],
   "source": [
    "couleurs = cm.rainbow(np.linspace(0,1,9))\n",
    "\n",
    "for i in range(coefsLasso.shape[0]):\n",
    "    plt.plot(alphaForPath,coefsLasso[i,:])\n",
    "\n",
    "plt.xlabel('Alpha')\n",
    "plt.ylabel('Coefficients')\n",
    "plt.title('Lasso path')\n",
    "plt.show()"
   ]
  },
  {
   "cell_type": "code",
   "execution_count": 54,
   "metadata": {},
   "outputs": [
    {
     "data": {
      "image/png": "[encoded data removed]",
      "text/plain": [
       "<Figure size 432x288 with 1 Axes>"
      ]
     },
     "metadata": {
      "needs_background": "light"
     },
     "output_type": "display_data"
    }
   ],
   "source": [
    "## Number of NonNul coefs\n",
    "nbNonZero =np.apply_along_axis(func1d=np.count_nonzero,arr=coefsLasso,axis=0)\n",
    "\n",
    "plt.plot(alphaForPath,nbNonZero)\n",
    "plt.xlabel('Alpha')\n",
    "plt.ylabel('Nb. of variables')\n",
    "plt.title('Nb. variables vs. Alpha')\n",
    "plt.show()"
   ]
  },
  {
   "cell_type": "markdown",
   "metadata": {},
   "source": [
    "### towards crossed validation"
   ]
  },
  {
   "cell_type": "code",
   "execution_count": 57,
   "metadata": {},
   "outputs": [],
   "source": [
    "lcv = slm.LassoCV(alphas=myAlphas,normalize=False,fit_intercept=False,random_state=0,cv=5)"
   ]
  },
  {
   "cell_type": "code",
   "execution_count": 58,
   "metadata": {},
   "outputs": [
    {
     "name": "stderr",
     "output_type": "stream",
     "text": [
      "/home/taurus/anaconda3/lib/python3.7/site-packages/sklearn/linear_model/coordinate_descent.py:1100: DataConversionWarning: A column-vector y was passed when a 1d array was expected. Please change the shape of y to (n_samples, ), for example using ravel().\n",
      "  y = column_or_1d(y, warn=True)\n"
     ]
    },
    {
     "data": {
      "text/plain": [
       "LassoCV(alphas=array([0.01, 0.11, 0.21, 0.31, 0.41, 0.51, 0.61, 0.71, 0.81, 0.91, 1.01]),\n",
       "        copy_X=True, cv=5, eps=0.001, fit_intercept=False, max_iter=1000,\n",
       "        n_alphas=100, n_jobs=None, normalize=False, positive=False,\n",
       "        precompute='auto', random_state=0, selection='cyclic', tol=0.0001,\n",
       "        verbose=False)"
      ]
     },
     "execution_count": 58,
     "metadata": {},
     "output_type": "execute_result"
    }
   ],
   "source": [
    "lcv.fit(trainGammaX,trainGammaY) "
   ]
  },
  {
   "cell_type": "code",
   "execution_count": 59,
   "metadata": {},
   "outputs": [
    {
     "data": {
      "image/png": "[encoded data removed]",
      "text/plain": [
       "<Figure size 432x288 with 1 Axes>"
      ]
     },
     "metadata": {
      "needs_background": "light"
     },
     "output_type": "display_data"
    }
   ],
   "source": [
    "#average MSE vs Alpha\n",
    "avgMse = np.mean(lcv.mse_path_,axis=1)\n",
    "plt.plot(lcv.alphas_,avgMse)\n",
    "plt.xlabel('lambda')\n",
    "plt.ylabel('MSE')\n",
    "plt.title('MSE vs. lambda')\n",
    "plt.show()"
   ]
  },
  {
   "cell_type": "code",
   "execution_count": 262,
   "metadata": {},
   "outputs": [
    {
     "name": "stdout",
     "output_type": "stream",
     "text": [
      "Value of alpha chosen is:  0.01\n"
     ]
    }
   ],
   "source": [
    "alphChosen=lcv.alpha_\n",
    "print(\"Value of alpha chosen is: \",alphChosen)\n"
   ]
  },
  {
   "cell_type": "markdown",
   "metadata": {},
   "source": [
    "To sum up, it tends tends to prefer an OLS regression"
   ]
  },
  {
   "cell_type": "code",
   "execution_count": 263,
   "metadata": {},
   "outputs": [
    {
     "name": "stdout",
     "output_type": "stream",
     "text": [
      "Score of LCV on traing data: 0.8531255542058103\n",
      "Score of LCV on test data: 0.8516262143758211\n"
     ]
    }
   ],
   "source": [
    "scoreTrainLCV = lcv.score(trainGammaX,trainGammaY)\n",
    "scoretestLCV = lcv.score(testGammaX,testGammaY)\n",
    "print(\"Score of LCV on traing data:\",scoreTrainLCV)\n",
    "print(\"Score of LCV on test data:\",scoretestLCV)"
   ]
  },
  {
   "cell_type": "markdown",
   "metadata": {},
   "source": [
    "DISAPPOINTMENT!!!!!!!!!!!!!!!!!!!!!!!!!!!!!!!!!!!!!!!!!!!!!!!!!!!!!!!!!!!!!!!!!!!!"
   ]
  }
 ],
 "metadata": {
  "kernelspec": {
   "display_name": "Python 3",
   "language": "python",
   "name": "python3"
  },
  "language_info": {
   "codemirror_mode": {
    "name": "ipython",
    "version": 3
   },
   "file_extension": ".py",
   "mimetype": "text/x-python",
   "name": "python",
   "nbconvert_exporter": "python",
   "pygments_lexer": "ipython3",
   "version": "3.7.4"
  }
 },
 "nbformat": 4,
 "nbformat_minor": 4
}
